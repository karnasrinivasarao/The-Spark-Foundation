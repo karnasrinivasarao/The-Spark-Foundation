{
 "cells": [
  {
   "cell_type": "markdown",
   "metadata": {},
   "source": [
    "# The Spark Foundation :  GRIP  Jan-2021"
   ]
  },
  {
   "cell_type": "markdown",
   "metadata": {},
   "source": [
    "# Task-4 : Exploratory Data Analysis - Terrorism"
   ]
  },
  {
   "cell_type": "markdown",
   "metadata": {},
   "source": [
    "### Description : As a security/defense analyst, try to find out the hot zone of terrorism and What all security issues and insights you can derive by EDA?"
   ]
  },
  {
   "cell_type": "markdown",
   "metadata": {},
   "source": [
    "# Importing libraries"
   ]
  },
  {
   "cell_type": "code",
   "execution_count": null,
   "metadata": {},
   "outputs": [],
   "source": [
    "#Importing all Necessary libraries\n",
    "\n",
    "import pandas as pd\n",
    "import numpy as np\n",
    "import matplotlib.pyplot as plt\n",
    "import seaborn as sns"
   ]
  },
  {
   "cell_type": "markdown",
   "metadata": {},
   "source": [
    "# Loading Data"
   ]
  },
  {
   "cell_type": "code",
   "execution_count": null,
   "metadata": {
    "scrolled": true
   },
   "outputs": [],
   "source": [
    "terror_data = pd.read_csv('globalterrorismdb_0718dist.csv', encoding='latin-1')"
   ]
  },
  {
   "cell_type": "code",
   "execution_count": null,
   "metadata": {},
   "outputs": [],
   "source": [
    "#Checking top five rows of each column\n",
    "\n",
    "terror_data.head()"
   ]
  },
  {
   "cell_type": "code",
   "execution_count": null,
   "metadata": {},
   "outputs": [],
   "source": [
    "#Checking the Shape of Data\n",
    "\n",
    "terror_data.shape"
   ]
  },
  {
   "cell_type": "code",
   "execution_count": null,
   "metadata": {},
   "outputs": [],
   "source": [
    "#Checking data Types \n",
    "\n",
    "terror_data.dtypes"
   ]
  },
  {
   "cell_type": "markdown",
   "metadata": {},
   "source": [
    "# Renaming the Columns which are Important /Required for the analysis"
   ]
  },
  {
   "cell_type": "code",
   "execution_count": null,
   "metadata": {},
   "outputs": [],
   "source": [
    "terror_data.rename(columns={'iyear':'Year', 'imonth':'Month', 'iday':'Day', 'country_txt':'Country', 'region_txt':'Region', 'provstate':'State', 'city':'City',\n",
    "                   'attacktype1_txt':'Attack_Type', 'targtype1_txt':'Target_Type', 'motive':'Motive', 'weaptype1_txt':'Weapon_Type',\n",
    "                   'weapdetail':'Weapon_Details', 'nkill':'Kill', 'nwound':'Injured', 'summary':'Summary'}, inplace=True)"
   ]
  },
  {
   "cell_type": "code",
   "execution_count": null,
   "metadata": {},
   "outputs": [],
   "source": [
    "terror_data.head()"
   ]
  },
  {
   "cell_type": "markdown",
   "metadata": {},
   "source": [
    "# Loading the important /Required Columns for analysis"
   ]
  },
  {
   "cell_type": "code",
   "execution_count": null,
   "metadata": {},
   "outputs": [],
   "source": [
    "terror_data = terror_data[['Year', 'Month', 'Day', 'Country', 'Region', 'State', 'City', 'Attack_Type', 'Target_Type', 'Motive', 'Weapon_Type',\n",
    "            'Weapon_Details', 'Kill', 'Injured', 'Summary']]"
   ]
  },
  {
   "cell_type": "code",
   "execution_count": null,
   "metadata": {},
   "outputs": [],
   "source": [
    "terror_data.head()"
   ]
  },
  {
   "cell_type": "code",
   "execution_count": null,
   "metadata": {},
   "outputs": [],
   "source": [
    "#After the Renaming and redicing the data checking the shape of data\n",
    "\n",
    "terror_data.shape"
   ]
  },
  {
   "cell_type": "markdown",
   "metadata": {},
   "source": [
    "## We didn't drop the null values rows because if we drop the rows we lose the imformation from data which is required for our analysis"
   ]
  },
  {
   "cell_type": "code",
   "execution_count": null,
   "metadata": {},
   "outputs": [],
   "source": [
    "#Checking the null values\n",
    "\n",
    "terror_data.isnull().sum()"
   ]
  },
  {
   "cell_type": "markdown",
   "metadata": {},
   "source": [
    "# Checking the Hot Zone"
   ]
  },
  {
   "cell_type": "code",
   "execution_count": null,
   "metadata": {
    "scrolled": true
   },
   "outputs": [],
   "source": [
    "print(\"Hot Zone for terrorism \")\n",
    "terror_data['Country'].value_counts().head()"
   ]
  },
  {
   "cell_type": "markdown",
   "metadata": {},
   "source": [
    "### We can see that Iraq 24636 times under attack of Terrorist"
   ]
  },
  {
   "cell_type": "code",
   "execution_count": null,
   "metadata": {},
   "outputs": [],
   "source": [
    "#Plotting the countplot Country vs Count of terrorist attack on Country\n",
    "\n",
    "plt.figure(figsize=(30,12))\n",
    "sns.countplot('Country', data=terror_data)\n",
    "plt.title('Hot Zone for Terrorism', fontsize=25)\n",
    "plt.xticks(rotation=90)\n",
    "plt.show()"
   ]
  },
  {
   "cell_type": "markdown",
   "metadata": {},
   "source": [
    "# Plotting the barplot which has Top 10 Country which has Hot Zone"
   ]
  },
  {
   "cell_type": "code",
   "execution_count": null,
   "metadata": {},
   "outputs": [],
   "source": [
    "plt.figure(figsize=(15,6))\n",
    "sns.barplot(terror_data['Country'].value_counts()[:10].index, terror_data['Country'].value_counts()[:10].values)\n",
    "plt.xlabel('Top 10 Country under Terrorism')\n",
    "plt.ylabel('Terrorism attack Count')\n",
    "plt.title('Top 10 Country under Terrorism attack ', fontsize=20)\n",
    "plt.xticks(rotation=90)\n",
    "plt.show()"
   ]
  },
  {
   "cell_type": "markdown",
   "metadata": {},
   "source": [
    "## From abow barplot we can see that Iraq is the Hot Zone of Terrorist Attack"
   ]
  },
  {
   "cell_type": "markdown",
   "metadata": {},
   "source": [
    "## After the Iraq, Pakistan and Afghanistan, India is the Hot Zone of Terrorist"
   ]
  },
  {
   "cell_type": "code",
   "execution_count": null,
   "metadata": {
    "scrolled": false
   },
   "outputs": [],
   "source": [
    "print(\"Country with less terrorism \")\n",
    "terror_data['Country'].value_counts().tail()"
   ]
  },
  {
   "cell_type": "markdown",
   "metadata": {},
   "source": [
    "## From abow values we can see that North Korea and New Hebrides are less under attack"
   ]
  },
  {
   "cell_type": "code",
   "execution_count": null,
   "metadata": {},
   "outputs": [],
   "source": [
    "#Number of People Killed and Injured according to the Country\n",
    "\n",
    "country1 = terror_data.groupby(['Country'])['Country', 'Kill', 'Injured'].sum()\n",
    "country1.head()"
   ]
  },
  {
   "cell_type": "markdown",
   "metadata": {},
   "source": [
    "### From abow values we can see that in Afghanistan more People Killed and Injured "
   ]
  },
  {
   "cell_type": "code",
   "execution_count": null,
   "metadata": {
    "scrolled": true
   },
   "outputs": [],
   "source": [
    "print('Amount of pepople Killed and Injured per year')\n",
    "year1 = terror_data.groupby(['Year'])['Kill', 'Injured'].sum()\n",
    "year1.head(8)"
   ]
  },
  {
   "cell_type": "code",
   "execution_count": null,
   "metadata": {},
   "outputs": [],
   "source": [
    "print('Amount of pepople Killed and Injured per year')\n",
    "year2 = terror_data.groupby(['Year'])['Kill', 'Injured'].sum()\n",
    "year2.tail(10)"
   ]
  },
  {
   "cell_type": "markdown",
   "metadata": {},
   "source": [
    "## From abow we can see that Number of People Killed and Injured as per Year and aslo we can see that as Year increasing Number of killing and Injuries aslo increasing."
   ]
  },
  {
   "cell_type": "code",
   "execution_count": null,
   "metadata": {
    "scrolled": true
   },
   "outputs": [],
   "source": [
    "#Terrorist activity per Year\n",
    "\n",
    "year3 = terror_data['Year'].value_counts()\n",
    "year3.head()"
   ]
  },
  {
   "cell_type": "markdown",
   "metadata": {},
   "source": [
    "# Count of Terrorism attack per Year"
   ]
  },
  {
   "cell_type": "code",
   "execution_count": null,
   "metadata": {},
   "outputs": [],
   "source": [
    "plt.figure(figsize=(15,6))\n",
    "sns.countplot('Year', data=terror_data)\n",
    "plt.xlabel('Year of Terrorism attack')\n",
    "plt.ylabel('Terrorism attack Count')\n",
    "plt.title('Count of Terrorism attack per Year ', fontsize=20)\n",
    "plt.xticks(rotation=90)\n",
    "plt.show()"
   ]
  },
  {
   "cell_type": "markdown",
   "metadata": {},
   "source": [
    "## Attack_Type and Weapon_Type used against Country"
   ]
  },
  {
   "cell_type": "code",
   "execution_count": null,
   "metadata": {
    "scrolled": true
   },
   "outputs": [],
   "source": [
    "attack_type = terror_data.groupby(['Country'])['Attack_Type', 'Weapon_Type'].max()\n",
    "attack_type.head(10)"
   ]
  },
  {
   "cell_type": "code",
   "execution_count": null,
   "metadata": {},
   "outputs": [],
   "source": [
    "#Number of Attacking type used \n",
    "\n",
    "terror_data['Attack_Type'].value_counts()"
   ]
  },
  {
   "cell_type": "markdown",
   "metadata": {},
   "source": [
    "# Number of Attacking Types used for Attack Purpose"
   ]
  },
  {
   "cell_type": "code",
   "execution_count": null,
   "metadata": {},
   "outputs": [],
   "source": [
    "plt.figure(figsize=(15,6))\n",
    "sns.barplot(terror_data['Attack_Type'].value_counts()[:10].index, terror_data['Attack_Type'].value_counts()[:10].values)\n",
    "plt.xlabel('Attack type used by Terrorist')\n",
    "plt.ylabel('Attack_Type Count')\n",
    "plt.title('Top Attacking Type used by Terrorist ', fontsize=20)\n",
    "plt.xticks(rotation=90)\n",
    "plt.show()"
   ]
  },
  {
   "cell_type": "markdown",
   "metadata": {},
   "source": [
    "## From abow barplot we can see that Bombing/Explosion and Armed Assault is used much more than other attacking type"
   ]
  },
  {
   "cell_type": "code",
   "execution_count": null,
   "metadata": {},
   "outputs": [],
   "source": [
    "#Weapon types used for attacking purpose\n",
    "\n",
    "terror_data['Weapon_Type'].value_counts()"
   ]
  },
  {
   "cell_type": "markdown",
   "metadata": {},
   "source": [
    "# Weapon Type used for Attacking Purpose"
   ]
  },
  {
   "cell_type": "code",
   "execution_count": null,
   "metadata": {},
   "outputs": [],
   "source": [
    "plt.figure(figsize=(15,6))\n",
    "sns.barplot(terror_data['Weapon_Type'].value_counts()[:15].index, terror_data['Weapon_Type'].value_counts()[:15].values)\n",
    "plt.xlabel('Weapon type used by Terrorist')\n",
    "plt.ylabel('Weapon_Type Count')\n",
    "plt.title('Top Weapon Type used by Terrorist ', fontsize=20)\n",
    "plt.xticks(rotation=90)\n",
    "plt.show()"
   ]
  },
  {
   "cell_type": "markdown",
   "metadata": {},
   "source": [
    "## From abow barplot we can see that Explossives and firearms used much more than other Weapon type"
   ]
  },
  {
   "cell_type": "code",
   "execution_count": null,
   "metadata": {},
   "outputs": [],
   "source": [
    "#Region which is used for attacking purpose\n",
    "\n",
    "region = terror_data['Region'].value_counts()\n",
    "region.head()"
   ]
  },
  {
   "cell_type": "markdown",
   "metadata": {},
   "source": [
    "# Region in which More Attack has been happened"
   ]
  },
  {
   "cell_type": "code",
   "execution_count": null,
   "metadata": {},
   "outputs": [],
   "source": [
    "plt.figure(figsize=(15,6))\n",
    "sns.countplot('Region', data=terror_data)\n",
    "plt.xlabel('Region of Terrorism attack')\n",
    "plt.ylabel('Region attack Count')\n",
    "plt.title('Region has Maximun Terrorist Attack ', fontsize=20)\n",
    "plt.xticks(rotation=90)\n",
    "plt.show()"
   ]
  },
  {
   "cell_type": "markdown",
   "metadata": {},
   "source": [
    "## From abow countplot we can see that Middle East and North Africa , South Asia Region is more under attack"
   ]
  },
  {
   "cell_type": "code",
   "execution_count": null,
   "metadata": {},
   "outputs": [],
   "source": [
    "#City which is Maximum times under attack\n",
    "\n",
    "city = terror_data['City'].value_counts()\n",
    "city.head()"
   ]
  },
  {
   "cell_type": "markdown",
   "metadata": {},
   "source": [
    "# City with Maximun Attack"
   ]
  },
  {
   "cell_type": "code",
   "execution_count": null,
   "metadata": {},
   "outputs": [],
   "source": [
    "plt.figure(figsize=(15,6))\n",
    "sns.barplot(terror_data['City'].value_counts()[:15].index, terror_data['City'].value_counts()[:15].values)\n",
    "plt.xlabel('City with most attack')\n",
    "plt.ylabel('Count')\n",
    "plt.title('City which is Hot Zone ', fontsize=20)\n",
    "plt.xticks(rotation=90)\n",
    "plt.show()"
   ]
  },
  {
   "cell_type": "markdown",
   "metadata": {},
   "source": [
    "### From abow barplot we can see that Baghdad and Karachi, Lima is most time under attack"
   ]
  },
  {
   "cell_type": "markdown",
   "metadata": {},
   "source": [
    "# Thanking You"
   ]
  },
  {
   "cell_type": "code",
   "execution_count": null,
   "metadata": {},
   "outputs": [],
   "source": []
  }
 ],
 "metadata": {
  "kernelspec": {
   "display_name": "Python 3",
   "language": "python",
   "name": "python3"
  },
  "language_info": {
   "codemirror_mode": {
    "name": "ipython",
    "version": 3
   },
   "file_extension": ".py",
   "mimetype": "text/x-python",
   "name": "python",
   "nbconvert_exporter": "python",
   "pygments_lexer": "ipython3",
   "version": "3.7.3"
  }
 },
 "nbformat": 4,
 "nbformat_minor": 2
}
